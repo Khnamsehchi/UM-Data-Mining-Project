{
 "cells": [
  {
   "cell_type": "code",
   "execution_count": null,
   "metadata": {},
   "outputs": [],
   "source": [
    "#Library\n",
    "import pandas as pd\n",
    "import numpy as np\n",
    "import datetime as dt\n",
    "import string\n",
    "import time\n",
    "import matplotlib.pyplot as plt\n",
    "from tslearn.preprocessing import TimeSeriesScalerMeanVariance\n",
    "from tslearn.piecewise import PiecewiseAggregateApproximation\n",
    "from tslearn.piecewise import SymbolicAggregateApproximation, OneD_SymbolicAggregateApproximation\n",
    "from math import sqrt\n",
    "from scipy.cluster.hierarchy import dendrogram, linkage\n",
    "from scipy.cluster.hierarchy import fcluster\n",
    "from langdetect import detect\n",
    "import matplotlib.pyplot as plt\n",
    "import seaborn as sns\n",
    "from vaderSentiment.vaderSentiment import SentimentIntensityAnalyzer\n",
    "import seaborn as sns\n",
    "import matplotlib.pyplot as plt\n",
    "from sklearn.preprocessing import StandardScaler\n"
   ]
  },
  {
   "cell_type": "code",
   "execution_count": null,
   "metadata": {},
   "outputs": [],
   "source": [
    "#Tweet Sentiment Analysis\n",
    "\n",
    "tweetsdf = pd.read_csv('q1tweetstockpot.csv')\n",
    "\n",
    "tweetsdf['text'] = tweetsdf['text'].astype(str)\n",
    "tweetsdf['lang'] = tweetsdf['text'].map(lambda x: detect(x)) #takes awhile to process\n",
    "tweetsdf = tweetsdf[tweetsdf['lang']=='en']\n",
    "\n",
    "analyzer = SentimentIntensityAnalyzer()\n",
    "sentiment = tweetsdf['text'].apply(lambda x: analyzer.polarity_scores(x)) \n",
    "df4 = pd.concat([tweetsdf,sentiment.apply(pd.Series)],1)\n",
    "df4.info()\n",
    "df4.describe()\n",
    "\n",
    "# Create sentiment polarity classes\n",
    "df4['summary'] = df4['compound'].apply(lambda x: (x>0 and 'Positive') or (x<0 and 'Negative') or 'Neutral')\n",
    "df4.to_csv('rawsentitweets.csv',index=False)\n",
    "\n",
    "df5 = df4.groupby(['name','timestamp'])['compound'].mean().reset_index(name = 'avg_senti')\n",
    "df5['tweetsenticlass']=df5['avg_senti'].apply(lambda x: (x>0 and 'Positive') or (x<0 and 'Negative') or 'Neutral')\n",
    "df5.to_csv('finalsentitweets.csv',index=False)\n",
    "\n"
   ]
  },
  {
   "cell_type": "code",
   "execution_count": null,
   "metadata": {},
   "outputs": [],
   "source": [
    "# Merge to create Final Dataset \n",
    "\n",
    "dfori = pd.read_csv('potentialstock.csv')\n",
    "dfnewsenti = pd.read_csv('finalsentinews.csv')\n",
    "dfnewsenti.rename(columns={'dates':'day'}, inplace=True)\n",
    "dftweetsenti = pd.read_csv('finalsentitweets.csv')\n",
    "dftweetsenti.rename(columns={'timestamp':'day'}, inplace=True)\n",
    "\n",
    "merged_df_union = pd.merge(dfori,dfnewsenti,on=['name','day'],how='left')\n",
    "merged_df_union['avg_senti'].fillna(0, inplace=True)\n",
    "merged_df_union['newssenticlass'].fillna('none', inplace=True)\n",
    "\n",
    "merged_df_union2 = pd.merge(merged_df_union,dftweetsenti,on=['name','day'],how='left')\n",
    "merged_df_union2['avg_senti_y'].fillna(0, inplace=True)\n",
    "merged_df_union2['tweetsenticlass'].fillna('none', inplace=True)\n",
    "\n",
    "merged_df_union2.to_csv('mergestocksq1.csv',index=False)\n"
   ]
  }
 ],
 "metadata": {
  "kernelspec": {
   "display_name": "Python 3",
   "language": "python",
   "name": "python3"
  },
  "language_info": {
   "codemirror_mode": {
    "name": "ipython",
    "version": 3
   },
   "file_extension": ".py",
   "mimetype": "text/x-python",
   "name": "python",
   "nbconvert_exporter": "python",
   "pygments_lexer": "ipython3",
   "version": "3.7.4"
  }
 },
 "nbformat": 4,
 "nbformat_minor": 2
}
